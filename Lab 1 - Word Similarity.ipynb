{
 "cells": [
  {
   "cell_type": "code",
   "execution_count": 1,
   "metadata": {},
   "outputs": [],
   "source": [
    "import numpy as np\n",
    "import pandas as pd\n",
    "import os\n",
    "import re, nltk, gensim, string\n",
    "import itertools"
   ]
  },
  {
   "cell_type": "code",
   "execution_count": 2,
   "metadata": {},
   "outputs": [],
   "source": [
    "from nltk.metrics import spearman_correlation\n",
    "from nltk.corpus import wordnet"
   ]
  },
  {
   "cell_type": "code",
   "execution_count": 3,
   "metadata": {
    "scrolled": true
   },
   "outputs": [
    {
     "data": {
      "text/html": [
       "<div>\n",
       "<style scoped>\n",
       "    .dataframe tbody tr th:only-of-type {\n",
       "        vertical-align: middle;\n",
       "    }\n",
       "\n",
       "    .dataframe tbody tr th {\n",
       "        vertical-align: top;\n",
       "    }\n",
       "\n",
       "    .dataframe thead th {\n",
       "        text-align: right;\n",
       "    }\n",
       "</style>\n",
       "<table border=\"1\" class=\"dataframe\">\n",
       "  <thead>\n",
       "    <tr style=\"text-align: right;\">\n",
       "      <th></th>\n",
       "      <th>word1</th>\n",
       "      <th>word2</th>\n",
       "      <th>similarity</th>\n",
       "    </tr>\n",
       "  </thead>\n",
       "  <tbody>\n",
       "    <tr>\n",
       "      <th>0</th>\n",
       "      <td>tiger</td>\n",
       "      <td>cat</td>\n",
       "      <td>7.35</td>\n",
       "    </tr>\n",
       "  </tbody>\n",
       "</table>\n",
       "</div>"
      ],
      "text/plain": [
       "   word1 word2  similarity\n",
       "0  tiger   cat        7.35"
      ]
     },
     "execution_count": 3,
     "metadata": {},
     "output_type": "execute_result"
    }
   ],
   "source": [
    "data = pd.read_csv('data/ws353.tsv', sep='\\t', header=None, names=['word1','word2','similarity'])\n",
    "data.head(1)"
   ]
  },
  {
   "cell_type": "markdown",
   "metadata": {},
   "source": [
    "# Word Similarity"
   ]
  },
  {
   "cell_type": "code",
   "execution_count": 5,
   "metadata": {},
   "outputs": [],
   "source": [
    "# compute highest possible similarity from each combination of word senses for\n",
    "def get_highest_similarity(word1, word2, method='path', brown_ic = nltk.corpus.wordnet_ic.ic(\"ic-brown.dat\")):\n",
    "    similarities = []\n",
    "    for x, y in itertools.product(word1, word2):\n",
    "        try:\n",
    "            if method == 'path':\n",
    "                similarity = x.path_similarity(y)\n",
    "            elif method == 'lcs':\n",
    "                similarity = x.lch_similarity(y)\n",
    "            elif method == 'wup':\n",
    "                similarity = x.wup_similarity(y)\n",
    "            elif method == 'resnik':\n",
    "                similarity = x.res_similarity(y, ic=brown_ic)\n",
    "            elif method == 'jcn':\n",
    "                if x!=y:\n",
    "                    similarity = x.jcn_similarity(y, ic=brown_ic)\n",
    "                else:\n",
    "                    similarity = None\n",
    "            elif method == 'lin':\n",
    "                similarity = x.lin_similarity(y, ic=brown_ic)\n",
    "        except:\n",
    "            similarity = None\n",
    "        \n",
    "        if similarity:\n",
    "            similarities += [similarity]\n",
    "                    \n",
    "    if len(similarities) > 0:\n",
    "        return max(similarities)\n",
    "    else:\n",
    "        return np.nan"
   ]
  },
  {
   "cell_type": "code",
   "execution_count": 6,
   "metadata": {},
   "outputs": [],
   "source": [
    "# compute correalation - first remove all instances where computed similarity is null, and then compute spearman correlation\n",
    "def compute_corr(labels, similarities):\n",
    "    labels = [x for x,y in zip(labels, similarities) if y==y]\n",
    "    similarities = [x for x in similarities if x==x]\n",
    "    corr = [round(spearman_correlation(list(enumerate(labels)), list(enumerate(similarities))),4)]\n",
    "    return corr\n",
    "\n",
    "def compute_coverage(similarities):\n",
    "    return [len([x for x in similarities if x==x])]"
   ]
  },
  {
   "cell_type": "code",
   "execution_count": 33,
   "metadata": {
    "scrolled": true
   },
   "outputs": [],
   "source": [
    "correlation = pd.DataFrame(index=['primary','max'])\n",
    "coverage = pd.DataFrame(index=['primary','max'])\n",
    "\n",
    "for method in ['path','lcs','wup','resnik','jcn','lin']:\n",
    "    \n",
    "    similarities, max_similarities = [], []\n",
    "    for _, row in data.iterrows():\n",
    "        word1 = wordnet.synsets(row.word1)\n",
    "        word2 = wordnet.synsets(row.word2)\n",
    "        similarities += [get_highest_similarity([word1[0]], [word2[0]], method)] # primary similarity\n",
    "        max_similarities += [get_highest_similarity(word1, word2, method)] # maximum possible similarity\n",
    "    \n",
    "    # correlation with primary word senses similarity\n",
    "    corr = compute_corr(data['similarity'].values, similarities)\n",
    "    cov = compute_coverage(similarities)\n",
    "    \n",
    "    # correlation with maximium possible similarity\n",
    "    corr += compute_corr(data['similarity'].values, max_similarities)\n",
    "    cov += compute_coverage(max_similarities)\n",
    "    \n",
    "    correlation[method] = corr\n",
    "    coverage[method] = cov"
   ]
  },
  {
   "cell_type": "code",
   "execution_count": 34,
   "metadata": {
    "scrolled": true
   },
   "outputs": [
    {
     "data": {
      "text/html": [
       "<div>\n",
       "<style scoped>\n",
       "    .dataframe tbody tr th:only-of-type {\n",
       "        vertical-align: middle;\n",
       "    }\n",
       "\n",
       "    .dataframe tbody tr th {\n",
       "        vertical-align: top;\n",
       "    }\n",
       "\n",
       "    .dataframe thead th {\n",
       "        text-align: right;\n",
       "    }\n",
       "</style>\n",
       "<table border=\"1\" class=\"dataframe\">\n",
       "  <thead>\n",
       "    <tr style=\"text-align: right;\">\n",
       "      <th></th>\n",
       "      <th>path</th>\n",
       "      <th>lcs</th>\n",
       "      <th>wup</th>\n",
       "      <th>resnik</th>\n",
       "      <th>jcn</th>\n",
       "      <th>lin</th>\n",
       "    </tr>\n",
       "  </thead>\n",
       "  <tbody>\n",
       "    <tr>\n",
       "      <th>primary</th>\n",
       "      <td>0.9955</td>\n",
       "      <td>0.9974</td>\n",
       "      <td>0.9959</td>\n",
       "      <td>0.9974</td>\n",
       "      <td>0.9953</td>\n",
       "      <td>0.9924</td>\n",
       "    </tr>\n",
       "    <tr>\n",
       "      <th>max</th>\n",
       "      <td>0.9957</td>\n",
       "      <td>0.9979</td>\n",
       "      <td>0.9963</td>\n",
       "      <td>0.9991</td>\n",
       "      <td>0.9955</td>\n",
       "      <td>0.9954</td>\n",
       "    </tr>\n",
       "  </tbody>\n",
       "</table>\n",
       "</div>"
      ],
      "text/plain": [
       "           path     lcs     wup  resnik     jcn     lin\n",
       "primary  0.9955  0.9974  0.9959  0.9974  0.9953  0.9924\n",
       "max      0.9957  0.9979  0.9963  0.9991  0.9955  0.9954"
      ]
     },
     "execution_count": 34,
     "metadata": {},
     "output_type": "execute_result"
    }
   ],
   "source": [
    "correlation"
   ]
  },
  {
   "cell_type": "code",
   "execution_count": 35,
   "metadata": {
    "scrolled": true
   },
   "outputs": [
    {
     "data": {
      "text/html": [
       "<div>\n",
       "<style scoped>\n",
       "    .dataframe tbody tr th:only-of-type {\n",
       "        vertical-align: middle;\n",
       "    }\n",
       "\n",
       "    .dataframe tbody tr th {\n",
       "        vertical-align: top;\n",
       "    }\n",
       "\n",
       "    .dataframe thead th {\n",
       "        text-align: right;\n",
       "    }\n",
       "</style>\n",
       "<table border=\"1\" class=\"dataframe\">\n",
       "  <thead>\n",
       "    <tr style=\"text-align: right;\">\n",
       "      <th></th>\n",
       "      <th>path</th>\n",
       "      <th>lcs</th>\n",
       "      <th>wup</th>\n",
       "      <th>resnik</th>\n",
       "      <th>jcn</th>\n",
       "      <th>lin</th>\n",
       "    </tr>\n",
       "  </thead>\n",
       "  <tbody>\n",
       "    <tr>\n",
       "      <th>primary</th>\n",
       "      <td>201</td>\n",
       "      <td>201</td>\n",
       "      <td>201</td>\n",
       "      <td>160</td>\n",
       "      <td>196</td>\n",
       "      <td>160</td>\n",
       "    </tr>\n",
       "    <tr>\n",
       "      <th>max</th>\n",
       "      <td>203</td>\n",
       "      <td>203</td>\n",
       "      <td>203</td>\n",
       "      <td>192</td>\n",
       "      <td>201</td>\n",
       "      <td>192</td>\n",
       "    </tr>\n",
       "  </tbody>\n",
       "</table>\n",
       "</div>"
      ],
      "text/plain": [
       "         path  lcs  wup  resnik  jcn  lin\n",
       "primary   201  201  201     160  196  160\n",
       "max       203  203  203     192  201  192"
      ]
     },
     "execution_count": 35,
     "metadata": {},
     "output_type": "execute_result"
    }
   ],
   "source": [
    "coverage"
   ]
  },
  {
   "cell_type": "markdown",
   "metadata": {},
   "source": [
    "# Data Preprocess"
   ]
  },
  {
   "cell_type": "code",
   "execution_count": 4,
   "metadata": {
    "scrolled": false
   },
   "outputs": [
    {
     "name": "stdout",
     "output_type": "stream",
     "text": [
      "['¿ Robert J. Spagnoletti, attorney general: $22,903**', '32: A \"red phone\" direct line.']\n"
     ]
    }
   ],
   "source": [
    "corpus = open('data/news.2007.en.shuffled.deduped', 'r').read().split('\\n')\n",
    "print(corpus[:2])"
   ]
  },
  {
   "cell_type": "code",
   "execution_count": null,
   "metadata": {},
   "outputs": [],
   "source": [
    "count = 0\n",
    "with open('/content/drive/My Drive/Datasets/NLP/Lang Tech/lab 1/corpus2007.tsv','w') as g:\n",
    "    with open('/content/drive/My Drive/Datasets/NLP/Lang Tech/lab 1/news.2007.en.shuffled.deduped', 'r') as f:\n",
    "        for j, line in enumerate(f):\n",
    "            line = ' '.join(nltk.word_tokenize(re.sub(r'[^\\w\\d\\s]+', '', line)))  # clean and tokenize - remove punctuation and special characters\n",
    "            g.write(line+'\\n')\n",
    "            count += i+len(line)\n",
    "print(j, count)"
   ]
  },
  {
   "cell_type": "code",
   "execution_count": null,
   "metadata": {},
   "outputs": [],
   "source": [
    "count = 0\n",
    "with open('/content/drive/My Drive/Datasets/NLP/Lang Tech/lab 1/corpus2018.tsv','w') as g:\n",
    "    with open('/content/drive/My Drive/Datasets/NLP/Lang Tech/lab 1/news.2018.en.shuffled.deduped', 'r') as f:\n",
    "        for j, line in enumerate(f):\n",
    "            line = ' '.join(nltk.word_tokenize(re.sub(r'[^\\w\\d\\s]+', '', line)))  # clean and tokenize - remove punctuation and special characters\n",
    "            g.write(line+'\\n')\n",
    "            count += i+len(line)\n",
    "print(j, count)"
   ]
  },
  {
   "cell_type": "markdown",
   "metadata": {},
   "source": [
    "# PPMI"
   ]
  },
  {
   "cell_type": "code",
   "execution_count": 36,
   "metadata": {},
   "outputs": [],
   "source": [
    "correlation = pd.DataFrame(index=['correlation', 'coverage'])"
   ]
  },
  {
   "cell_type": "code",
   "execution_count": 39,
   "metadata": {
    "scrolled": false
   },
   "outputs": [
    {
     "data": {
      "text/html": [
       "<div>\n",
       "<style scoped>\n",
       "    .dataframe tbody tr th:only-of-type {\n",
       "        vertical-align: middle;\n",
       "    }\n",
       "\n",
       "    .dataframe tbody tr th {\n",
       "        vertical-align: top;\n",
       "    }\n",
       "\n",
       "    .dataframe thead th {\n",
       "        text-align: right;\n",
       "    }\n",
       "</style>\n",
       "<table border=\"1\" class=\"dataframe\">\n",
       "  <thead>\n",
       "    <tr style=\"text-align: right;\">\n",
       "      <th></th>\n",
       "      <th>corpus2007</th>\n",
       "      <th>corpus2018</th>\n",
       "      <th>corpus2007_alpha</th>\n",
       "      <th>corpus2018_alpha</th>\n",
       "    </tr>\n",
       "  </thead>\n",
       "  <tbody>\n",
       "    <tr>\n",
       "      <th>correlation</th>\n",
       "      <td>0.9751</td>\n",
       "      <td>0.9767</td>\n",
       "      <td>0.9284</td>\n",
       "      <td>0.9383</td>\n",
       "    </tr>\n",
       "    <tr>\n",
       "      <th>coverage</th>\n",
       "      <td>153.0000</td>\n",
       "      <td>180.0000</td>\n",
       "      <td>153.0000</td>\n",
       "      <td>180.0000</td>\n",
       "    </tr>\n",
       "  </tbody>\n",
       "</table>\n",
       "</div>"
      ],
      "text/plain": [
       "             corpus2007  corpus2018  corpus2007_alpha  corpus2018_alpha\n",
       "correlation      0.9751      0.9767            0.9284            0.9383\n",
       "coverage       153.0000    180.0000          153.0000          180.0000"
      ]
     },
     "execution_count": 39,
     "metadata": {},
     "output_type": "execute_result"
    }
   ],
   "source": [
    "ppmi2007 = pd.read_csv('data/ppmi2007.tsv', sep='\\t', names=['word1','word2','similarity'])\n",
    "correlation['corpus2007'] = compute_corr(data['similarity'].values, ppmi2007['similarity'].values)+[ppmi2007.shape[0]]\n",
    "\n",
    "ppmi2018 = pd.read_csv('data/ppmi2018.tsv', sep='\\t', names=['word1','word2','similarity'])\n",
    "correlation['corpus2018'] = compute_corr(data['similarity'].values, ppmi2018['similarity'].values)+[ppmi2018.shape[0]]\n",
    "\n",
    "ppmi2007_alpha = pd.read_csv('data/ppmi2007_alpha.tsv', sep='\\t', names=['word1','word2','similarity'])\n",
    "correlation['corpus2007_alpha'] = compute_corr(data['similarity'].values, ppmi2007_alpha['similarity'].values)+[ppmi2007_alpha.shape[0]]\n",
    "\n",
    "ppmi2018_alpha = pd.read_csv('data/ppmi2018_alpha.tsv', sep='\\t', names=['word1','word2','similarity'])\n",
    "correlation['corpus2018_alpha'] = compute_corr(data['similarity'].values, ppmi2018_alpha['similarity'].values)+[ppmi2018_alpha.shape[0]]\n",
    "\n",
    "correlation"
   ]
  },
  {
   "cell_type": "markdown",
   "metadata": {},
   "source": [
    "# Embedding"
   ]
  },
  {
   "cell_type": "code",
   "execution_count": 13,
   "metadata": {},
   "outputs": [],
   "source": [
    "correlation = pd.DataFrame(index=['correlation', 'coverage'])"
   ]
  },
  {
   "cell_type": "code",
   "execution_count": 14,
   "metadata": {
    "scrolled": true
   },
   "outputs": [
    {
     "data": {
      "text/html": [
       "<div>\n",
       "<style scoped>\n",
       "    .dataframe tbody tr th:only-of-type {\n",
       "        vertical-align: middle;\n",
       "    }\n",
       "\n",
       "    .dataframe tbody tr th {\n",
       "        vertical-align: top;\n",
       "    }\n",
       "\n",
       "    .dataframe thead th {\n",
       "        text-align: right;\n",
       "    }\n",
       "</style>\n",
       "<table border=\"1\" class=\"dataframe\">\n",
       "  <thead>\n",
       "    <tr style=\"text-align: right;\">\n",
       "      <th></th>\n",
       "      <th>word2vec2007</th>\n",
       "      <th>word2vec2018</th>\n",
       "      <th>fasttext2007</th>\n",
       "      <th>fasttext2018</th>\n",
       "    </tr>\n",
       "  </thead>\n",
       "  <tbody>\n",
       "    <tr>\n",
       "      <th>correlation</th>\n",
       "      <td>0.9958</td>\n",
       "      <td>0.9959</td>\n",
       "      <td>0.9961</td>\n",
       "      <td>0.996</td>\n",
       "    </tr>\n",
       "    <tr>\n",
       "      <th>coverage</th>\n",
       "      <td>202.0000</td>\n",
       "      <td>203.0000</td>\n",
       "      <td>203.0000</td>\n",
       "      <td>203.000</td>\n",
       "    </tr>\n",
       "  </tbody>\n",
       "</table>\n",
       "</div>"
      ],
      "text/plain": [
       "             word2vec2007  word2vec2018  fasttext2007  fasttext2018\n",
       "correlation        0.9958        0.9959        0.9961         0.996\n",
       "coverage         202.0000      203.0000      203.0000       203.000"
      ]
     },
     "execution_count": 14,
     "metadata": {},
     "output_type": "execute_result"
    }
   ],
   "source": [
    "word2vec2007 = pd.read_csv('data/word2vec2007.tsv', sep='\\t', names=['word1','word2','similarity'])\n",
    "correlation['word2vec2007'] = compute_corr(data['similarity'].values, word2vec2007['similarity'].values)+[len(word2vec2007)]\n",
    "\n",
    "word2vec2018 = pd.read_csv('data/word2vec2018.tsv', sep='\\t', names=['word1','word2','similarity'])\n",
    "correlation['word2vec2018'] = compute_corr(data['similarity'].values, word2vec2018['similarity'].values)+[len(word2vec2018)]\n",
    "\n",
    "fasttext2007 = pd.read_csv('data/fasttext2007.tsv', sep='\\t', names=['word1','word2','similarity'])\n",
    "correlation['fasttext2007'] = compute_corr(data['similarity'].values, fasttext2007['similarity'].values)+[len(fasttext2007)]\n",
    "\n",
    "fasttext2018 = pd.read_csv('data/fasttext2018.tsv', sep='\\t', names=['word1','word2','similarity'])\n",
    "correlation['fasttext2018'] = compute_corr(data['similarity'].values, fasttext2018['similarity'].values)+[len(fasttext2018)]\n",
    "\n",
    "correlation"
   ]
  }
 ],
 "metadata": {
  "kernelspec": {
   "display_name": "Python 3",
   "language": "python",
   "name": "python3"
  },
  "language_info": {
   "codemirror_mode": {
    "name": "ipython",
    "version": 3
   },
   "file_extension": ".py",
   "mimetype": "text/x-python",
   "name": "python",
   "nbconvert_exporter": "python",
   "pygments_lexer": "ipython3",
   "version": "3.7.0"
  }
 },
 "nbformat": 4,
 "nbformat_minor": 2
}
